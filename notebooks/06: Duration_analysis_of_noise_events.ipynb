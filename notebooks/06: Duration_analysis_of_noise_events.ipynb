{
 "cells": [
  {
   "cell_type": "code",
   "execution_count": 1,
   "id": "feec92e3",
   "metadata": {},
   "outputs": [],
   "source": [
    "import pandas as pd\n",
    "import datetime\n",
    "import numpy as np\n",
    "import os\n",
    "import glob\n",
    "import matplotlib.pyplot as plt"
   ]
  },
  {
   "cell_type": "code",
   "execution_count": 2,
   "id": "ec3cacf1",
   "metadata": {},
   "outputs": [],
   "source": [
    "def date(x): \n",
    "    return x.date()\n",
    "\n",
    "def timestamp_to_string(time): \n",
    "    return time.strftime(\"%d/%m/%Y\")"
   ]
  },
  {
   "cell_type": "code",
   "execution_count": 3,
   "id": "097585b8",
   "metadata": {},
   "outputs": [],
   "source": [
    "def transient_grouping(df, duration_max): \n",
    "    return  df[df['duration']==duration_max]"
   ]
  },
  {
   "cell_type": "code",
   "execution_count": 4,
   "id": "f398dfe1",
   "metadata": {},
   "outputs": [],
   "source": [
    "def duration_grouping(df, duration_min, duration_max): \n",
    "    return df[(df['duration']>duration_min) & (df['duration']<=duration_max)]"
   ]
  },
  {
   "cell_type": "code",
   "execution_count": 5,
   "id": "8f99b8be",
   "metadata": {},
   "outputs": [],
   "source": [
    "feather_folder_path = 'C:\\\\transients'"
   ]
  },
  {
   "cell_type": "code",
   "execution_count": 6,
   "id": "892b642b",
   "metadata": {},
   "outputs": [],
   "source": [
    "#can read in from hard drive, just a lot slower!!\n",
    "#path = 'D:\\\\211208_GM_processed_data\\monthly_data'\n",
    "#aug_loud = pd.read_feather(path + '\\\\2018_08' + '.feather')"
   ]
  },
  {
   "cell_type": "code",
   "execution_count": 7,
   "id": "a12ca95d",
   "metadata": {},
   "outputs": [],
   "source": [
    "#import monthly files, only events that are flagged as loud\n",
    "aug_loud = pd.read_feather(r'C:\\transients' + '\\\\2018_08' + '.feather')\n",
    "sep_loud = pd.read_feather(r'C:\\transients' + '\\\\2018_09' + '.feather')\n",
    "oct_loud = pd.read_feather(r'C:\\transients' + '\\\\2018_10' + '.feather')\n",
    "nov_loud = pd.read_feather(r'C:\\transients' + '\\\\2018_11' + '.feather')\n",
    "dec_loud = pd.read_feather(r'C:\\transients' + '\\\\2018_12' + '.feather')\n",
    "jan_loud = pd.read_feather(r'C:\\transients' + '\\\\2019_01' + '.feather')\n",
    "feb_loud = pd.read_feather(r'C:\\transients' + '\\\\2019_02' + '.feather')\n",
    "mar_loud = pd.read_feather(r'C:\\transients' + '\\\\2019_03' + '.feather')\n",
    "apr_loud = pd.read_feather(r'C:\\transients' + '\\\\2019_04' + '.feather')\n",
    "may_loud = pd.read_feather(r'C:\\transients' + '\\\\2019_05' + '.feather')"
   ]
  },
  {
   "cell_type": "code",
   "execution_count": 8,
   "id": "732694a4",
   "metadata": {},
   "outputs": [],
   "source": [
    "#import monthly files, keeping only the average noise for each TOL band across the whole month \n",
    "aug  = len(pd.read_feather(r'C:\\monthly_data' + '\\\\2018_08' + '.feather'))\n",
    "sep  = len(pd.read_feather(r'C:\\monthly_data' + '\\\\2018_09' + '.feather'))\n",
    "oct  = len(pd.read_feather(r'C:\\monthly_data' + '\\\\2018_10' + '.feather'))\n",
    "nov  = len(pd.read_feather(r'C:\\monthly_data' + '\\\\2018_11' + '.feather'))\n",
    "dec  = len(pd.read_feather(r'C:\\monthly_data' + '\\\\2018_12' + '.feather'))\n",
    "jan  = len(pd.read_feather(r'C:\\monthly_data' + '\\\\2019_01' + '.feather'))\n",
    "feb  = len(pd.read_feather(r'C:\\monthly_data' + '\\\\2019_02' + '.feather'))\n",
    "mar  = len(pd.read_feather(r'C:\\monthly_data' + '\\\\2019_03' + '.feather'))\n",
    "apr  = len(pd.read_feather(r'C:\\monthly_data' + '\\\\2019_04' + '.feather'))\n",
    "may  = len(pd.read_feather(r'C:\\monthly_data' + '\\\\2019_05' + '.feather'))"
   ]
  },
  {
   "cell_type": "code",
   "execution_count": 9,
   "id": "dae51b91",
   "metadata": {},
   "outputs": [],
   "source": [
    "month_array = ['Aug', 'Sep', 'Oct', 'Nov', 'Dec', 'Jan', 'Feb', 'Mar', 'Apr', 'May']  #for monthly labels \n",
    "lenth_array = [aug, sep, oct, nov, dec, jan, feb, mar, apr, may]\n",
    "\n",
    "#empty lists \n",
    "short_array = [] \n",
    "med_short_array = []\n",
    "med_array = []\n",
    "long_array = []\n",
    "\n",
    "count = 0 \n",
    "for month in [aug_loud, sep_loud, oct_loud, nov_loud, dec_loud, jan_loud, feb_loud, mar_loud, apr_loud, may_loud]:\n",
    "    #length = len(month)\n",
    "    length = lenth_array[count] \n",
    "    \n",
    "    #create dataframes \n",
    "    df_short = transient_grouping(month, 0.5)\n",
    "    df_med_short = duration_grouping(month, 0.5, 5)\n",
    "    df_med = duration_grouping(month, 5, 180)\n",
    "    df_long = duration_grouping(month, 180, 1200)\n",
    "    \n",
    "    #calculate percentages\n",
    "    proportion_short = (len(df_short)/length)*100   #percentage as transients \n",
    "    proportion_med_short = (len(df_med_short)/length)*100   #percentage as non transients \n",
    "    proportion_med = (len(df_med)/length)*100   #percentage as non transients \n",
    "    proportion_long = (len(df_long)/length)*100   #percentage as non transients \n",
    "    \n",
    "    #calculate percentages\n",
    "    #proportion_short = len(df_short)  #percentage as transients \n",
    "    #proportion_med_short = len(df_med_short)  #percentage as non transients \n",
    "    #proportion_med = len(df_med) #percentage as non transients \n",
    "    #proportion_long = len(df_long)   #percentage as non transients \n",
    "\n",
    "    #append to empty array \n",
    "    short_array.append(proportion_short)\n",
    "    med_short_array.append(proportion_med_short)\n",
    "    med_array.append(proportion_med)\n",
    "    long_array.append(proportion_long)\n",
    "    \n",
    "    count = count + 1\n",
    "\n",
    "#add values to dataframe \n",
    "bar_data = pd.DataFrame({'Month':month_array, \n",
    "                         'Proportion of short transients': short_array, \n",
    "                         'Proportion of medium short events': med_short_array, \n",
    "                         'Proportion of medium events': med_array, \n",
    "                         'Proportion of long events': long_array})"
   ]
  },
  {
   "cell_type": "code",
   "execution_count": 10,
   "id": "1e5e2b11",
   "metadata": {},
   "outputs": [],
   "source": [
    "#read in data \n",
    "ice_data = pd.read_csv(r'C:\\Users\\hjh44\\OneDrive - University of Bath\\Masters Project\\Python\\IceProfiler\\Ice_data.csv')\n",
    "ice_data['Date'] = pd.to_datetime(ice_data['Date'], dayfirst=True)  #change to datetime format "
   ]
  },
  {
   "cell_type": "code",
   "execution_count": 11,
   "id": "23797171",
   "metadata": {},
   "outputs": [
    {
     "data": {
      "text/html": [
       "<div>\n",
       "<style scoped>\n",
       "    .dataframe tbody tr th:only-of-type {\n",
       "        vertical-align: middle;\n",
       "    }\n",
       "\n",
       "    .dataframe tbody tr th {\n",
       "        vertical-align: top;\n",
       "    }\n",
       "\n",
       "    .dataframe thead th {\n",
       "        text-align: right;\n",
       "    }\n",
       "</style>\n",
       "<table border=\"1\" class=\"dataframe\">\n",
       "  <thead>\n",
       "    <tr style=\"text-align: right;\">\n",
       "      <th></th>\n",
       "      <th>Month</th>\n",
       "      <th>Proportion of short transients</th>\n",
       "      <th>Proportion of medium short events</th>\n",
       "      <th>Proportion of medium events</th>\n",
       "      <th>Proportion of long events</th>\n",
       "      <th>Ice draft</th>\n",
       "    </tr>\n",
       "  </thead>\n",
       "  <tbody>\n",
       "    <tr>\n",
       "      <th>1</th>\n",
       "      <td>Sep</td>\n",
       "      <td>0.071631</td>\n",
       "      <td>0.054319</td>\n",
       "      <td>0.017586</td>\n",
       "      <td>0.000411</td>\n",
       "      <td>-0.036249</td>\n",
       "    </tr>\n",
       "    <tr>\n",
       "      <th>2</th>\n",
       "      <td>Oct</td>\n",
       "      <td>0.179678</td>\n",
       "      <td>0.086731</td>\n",
       "      <td>0.027404</td>\n",
       "      <td>0.000000</td>\n",
       "      <td>0.058218</td>\n",
       "    </tr>\n",
       "    <tr>\n",
       "      <th>3</th>\n",
       "      <td>Nov</td>\n",
       "      <td>0.658853</td>\n",
       "      <td>0.202471</td>\n",
       "      <td>0.062231</td>\n",
       "      <td>0.000000</td>\n",
       "      <td>0.452721</td>\n",
       "    </tr>\n",
       "    <tr>\n",
       "      <th>4</th>\n",
       "      <td>Dec</td>\n",
       "      <td>0.901574</td>\n",
       "      <td>0.295553</td>\n",
       "      <td>0.038610</td>\n",
       "      <td>0.000000</td>\n",
       "      <td>0.719427</td>\n",
       "    </tr>\n",
       "    <tr>\n",
       "      <th>5</th>\n",
       "      <td>Jan</td>\n",
       "      <td>1.299257</td>\n",
       "      <td>0.433075</td>\n",
       "      <td>0.025825</td>\n",
       "      <td>0.000000</td>\n",
       "      <td>1.039574</td>\n",
       "    </tr>\n",
       "  </tbody>\n",
       "</table>\n",
       "</div>"
      ],
      "text/plain": [
       "  Month  Proportion of short transients  Proportion of medium short events  \\\n",
       "1   Sep                        0.071631                           0.054319   \n",
       "2   Oct                        0.179678                           0.086731   \n",
       "3   Nov                        0.658853                           0.202471   \n",
       "4   Dec                        0.901574                           0.295553   \n",
       "5   Jan                        1.299257                           0.433075   \n",
       "\n",
       "   Proportion of medium events  Proportion of long events  Ice draft  \n",
       "1                     0.017586                   0.000411  -0.036249  \n",
       "2                     0.027404                   0.000000   0.058218  \n",
       "3                     0.062231                   0.000000   0.452721  \n",
       "4                     0.038610                   0.000000   0.719427  \n",
       "5                     0.025825                   0.000000   1.039574  "
      ]
     },
     "execution_count": 11,
     "metadata": {},
     "output_type": "execute_result"
    }
   ],
   "source": [
    "def return_month(x): \n",
    "    x.month \n",
    "\n",
    "ice_data['month'] = np.nan\n",
    "for i in range(0, len(ice_data)): \n",
    "    ice_data.loc[i, 'month'] = ice_data.loc[i, 'Date'].month\n",
    "    \n",
    "monthly_ice_draft = ice_data.groupby(by='month', sort=False).mean()\n",
    "monthly_ice_draft = monthly_ice_draft.iloc[:-3]\n",
    "ice_draft = np.array(monthly_ice_draft['Ice Profiler'])\n",
    "bar_data = bar_data.drop(index=0)\n",
    "bar_data['Ice draft'] = ice_draft\n",
    "bar_data.head()"
   ]
  },
  {
   "cell_type": "code",
   "execution_count": 12,
   "id": "bd0d886d",
   "metadata": {},
   "outputs": [
    {
     "data": {
      "image/png": "[encoded data removed]",
      "text/plain": [
       "<Figure size 864x432 with 2 Axes>"
      ]
     },
     "metadata": {
      "needs_background": "light"
     },
     "output_type": "display_data"
    }
   ],
   "source": [
    "bar_data.drop(['Ice draft'], axis=1).plot(x='Month', kind='bar', figsize=(12, 6))\n",
    "bar_data['Ice draft'].plot(secondary_y=True, ls='--', label='Ice Draft')\n",
    "plt.ylabel('Ice draft (m)')\n",
    "plt.title('Proportion of noises detected as loud over entire month, split by their duration')\n",
    "plt.legend()\n",
    "plt.show()"
   ]
  },
  {
   "cell_type": "code",
   "execution_count": 13,
   "id": "b03cd0b0",
   "metadata": {},
   "outputs": [],
   "source": [
    "bar_data.drop('Ice draft', axis=1, inplace=True)"
   ]
  },
  {
   "cell_type": "code",
   "execution_count": 14,
   "id": "3c78e7f5",
   "metadata": {},
   "outputs": [
    {
     "data": {
      "text/plain": [
       "Text(0.5, 1.0, 'Proportion of \"loud\" noises with respect to entire month, split into durations')"
      ]
     },
     "execution_count": 14,
     "metadata": {},
     "output_type": "execute_result"
    },
    {
     "data": {
      "image/png": "[encoded data removed]",
      "text/plain": [
       "<Figure size 1152x576 with 1 Axes>"
      ]
     },
     "metadata": {
      "needs_background": "light"
     },
     "output_type": "display_data"
    }
   ],
   "source": [
    "#plotting\n",
    "ax = bar_data.plot.bar(x='Month', rot=0, figsize=(16, 8), stacked=True)\n",
    "plt.ylabel('Percentage (%)')\n",
    "plt.title('Proportion of \"loud\" noises with respect to entire month, split into durations')"
   ]
  },
  {
   "cell_type": "code",
   "execution_count": 15,
   "id": "5195ab11",
   "metadata": {},
   "outputs": [],
   "source": [
    "#frequencies as floats\n",
    "#freq = sep.drop(['broadband_spl', 'background', 'loud', 'transient', 'timestamp'], axis=1).columns.to_numpy()\n",
    "#freq = freq.astype(np.float)\n",
    "\n",
    "#freq_new = [] \n",
    "#for i in range(0, len(freq)): \n",
    "#    value = int(freq[i])\n",
    "#    freq_new = np.append(freq_new, value)"
   ]
  },
  {
   "cell_type": "code",
   "execution_count": null,
   "id": "6c2850af",
   "metadata": {},
   "outputs": [],
   "source": []
  },
  {
   "cell_type": "code",
   "execution_count": 16,
   "id": "48af0e14",
   "metadata": {},
   "outputs": [],
   "source": [
    "#append dataframe of groupby for each month into one for entire year!!! using for loop, groupby as above then append the 'by day' dataframe"
   ]
  },
  {
   "cell_type": "code",
   "execution_count": null,
   "id": "e74da3ab",
   "metadata": {},
   "outputs": [],
   "source": []
  },
  {
   "cell_type": "code",
   "execution_count": 17,
   "id": "2c6b3c44",
   "metadata": {},
   "outputs": [],
   "source": [
    "def groupby_day(df): \n",
    "    df['date'] = df['timestamp'].apply(date) \n",
    "    \n",
    "    #new dataframe for groupby of each day. Groupby with sum for Boolean columns is equal to count of number of True (tested)\n",
    "\n",
    "    df_by_day = df.groupby(by='date').sum()   \n",
    "    df_by_day.reset_index(inplace=True)\n",
    "    \n",
    "    return pd.DataFrame({'Date':df_by_day['date'], 'number of events':df_by_day['loud']})"
   ]
  },
  {
   "cell_type": "code",
   "execution_count": 18,
   "id": "c53c1fea",
   "metadata": {},
   "outputs": [],
   "source": [
    "df_short = (transient_grouping(aug_loud, 0.5))"
   ]
  },
  {
   "cell_type": "code",
   "execution_count": 19,
   "id": "bff6d871",
   "metadata": {},
   "outputs": [
    {
     "name": "stdout",
     "output_type": "stream",
     "text": [
      "Aug: Longest loud noise event within month: 389\n",
      "number of short transients : 5678\n",
      "number of medium short events : 4290\n",
      "number of medium events: 1632\n",
      "number of long events : 43\n",
      "Sep: Longest loud noise event within month: 452\n",
      "number of short transients : 2615\n",
      "number of medium short events : 1983\n",
      "number of medium events: 642\n",
      "number of long events : 15\n",
      "Oct: Longest loud noise event within month: 176\n",
      "number of short transients : 6360\n",
      "number of medium short events : 3070\n",
      "number of medium events: 970\n",
      "number of long events : 0\n",
      "Nov: Longest loud noise event within month: 107\n"
     ]
    },
    {
     "name": "stderr",
     "output_type": "stream",
     "text": [
      "<ipython-input-17-b78c07a0d9db>:2: SettingWithCopyWarning: \n",
      "A value is trying to be set on a copy of a slice from a DataFrame.\n",
      "Try using .loc[row_indexer,col_indexer] = value instead\n",
      "\n",
      "See the caveats in the documentation: https://pandas.pydata.org/pandas-docs/stable/user_guide/indexing.html#returning-a-view-versus-a-copy\n",
      "  df['date'] = df['timestamp'].apply(date)\n",
      "<ipython-input-17-b78c07a0d9db>:2: SettingWithCopyWarning: \n",
      "A value is trying to be set on a copy of a slice from a DataFrame.\n",
      "Try using .loc[row_indexer,col_indexer] = value instead\n",
      "\n",
      "See the caveats in the documentation: https://pandas.pydata.org/pandas-docs/stable/user_guide/indexing.html#returning-a-view-versus-a-copy\n",
      "  df['date'] = df['timestamp'].apply(date)\n",
      "<ipython-input-17-b78c07a0d9db>:2: SettingWithCopyWarning: \n",
      "A value is trying to be set on a copy of a slice from a DataFrame.\n",
      "Try using .loc[row_indexer,col_indexer] = value instead\n",
      "\n",
      "See the caveats in the documentation: https://pandas.pydata.org/pandas-docs/stable/user_guide/indexing.html#returning-a-view-versus-a-copy\n",
      "  df['date'] = df['timestamp'].apply(date)\n"
     ]
    },
    {
     "name": "stdout",
     "output_type": "stream",
     "text": [
      "number of short transients : 10439\n",
      "number of medium short events : 3208\n",
      "number of medium events: 986\n",
      "number of long events : 0\n",
      "Dec: Longest loud noise event within month: 96\n",
      "number of short transients : 27204\n",
      "number of medium short events : 8918\n",
      "number of medium events: 1165\n",
      "number of long events : 0\n",
      "Jan: Longest loud noise event within month: 112\n",
      "number of short transients : 42361\n",
      "number of medium short events : 14120\n",
      "number of medium events: 842\n",
      "number of long events : 0\n"
     ]
    },
    {
     "name": "stderr",
     "output_type": "stream",
     "text": [
      "<ipython-input-17-b78c07a0d9db>:2: SettingWithCopyWarning: \n",
      "A value is trying to be set on a copy of a slice from a DataFrame.\n",
      "Try using .loc[row_indexer,col_indexer] = value instead\n",
      "\n",
      "See the caveats in the documentation: https://pandas.pydata.org/pandas-docs/stable/user_guide/indexing.html#returning-a-view-versus-a-copy\n",
      "  df['date'] = df['timestamp'].apply(date)\n",
      "<ipython-input-17-b78c07a0d9db>:2: SettingWithCopyWarning: \n",
      "A value is trying to be set on a copy of a slice from a DataFrame.\n",
      "Try using .loc[row_indexer,col_indexer] = value instead\n",
      "\n",
      "See the caveats in the documentation: https://pandas.pydata.org/pandas-docs/stable/user_guide/indexing.html#returning-a-view-versus-a-copy\n",
      "  df['date'] = df['timestamp'].apply(date)\n",
      "<ipython-input-17-b78c07a0d9db>:2: SettingWithCopyWarning: \n",
      "A value is trying to be set on a copy of a slice from a DataFrame.\n",
      "Try using .loc[row_indexer,col_indexer] = value instead\n",
      "\n",
      "See the caveats in the documentation: https://pandas.pydata.org/pandas-docs/stable/user_guide/indexing.html#returning-a-view-versus-a-copy\n",
      "  df['date'] = df['timestamp'].apply(date)\n",
      "<ipython-input-17-b78c07a0d9db>:2: SettingWithCopyWarning: \n",
      "A value is trying to be set on a copy of a slice from a DataFrame.\n",
      "Try using .loc[row_indexer,col_indexer] = value instead\n",
      "\n",
      "See the caveats in the documentation: https://pandas.pydata.org/pandas-docs/stable/user_guide/indexing.html#returning-a-view-versus-a-copy\n",
      "  df['date'] = df['timestamp'].apply(date)\n"
     ]
    },
    {
     "name": "stdout",
     "output_type": "stream",
     "text": [
      "Feb: Longest loud noise event within month: 168\n",
      "number of short transients : 44242\n",
      "number of medium short events : 15876\n",
      "number of medium events: 724\n",
      "number of long events : 0\n",
      "Mar: Longest loud noise event within month: 151\n",
      "number of short transients : 59690\n",
      "number of medium short events : 25137\n",
      "number of medium events: 2326\n",
      "number of long events : 0\n"
     ]
    },
    {
     "name": "stderr",
     "output_type": "stream",
     "text": [
      "<ipython-input-17-b78c07a0d9db>:2: SettingWithCopyWarning: \n",
      "A value is trying to be set on a copy of a slice from a DataFrame.\n",
      "Try using .loc[row_indexer,col_indexer] = value instead\n",
      "\n",
      "See the caveats in the documentation: https://pandas.pydata.org/pandas-docs/stable/user_guide/indexing.html#returning-a-view-versus-a-copy\n",
      "  df['date'] = df['timestamp'].apply(date)\n"
     ]
    },
    {
     "name": "stdout",
     "output_type": "stream",
     "text": [
      "Apr: Longest loud noise event within month: 124\n",
      "number of short transients : 37558\n",
      "number of medium short events : 17385\n",
      "number of medium events: 1617\n",
      "number of long events : 0\n",
      "May: Longest loud noise event within month: 420\n"
     ]
    },
    {
     "name": "stderr",
     "output_type": "stream",
     "text": [
      "<ipython-input-17-b78c07a0d9db>:2: SettingWithCopyWarning: \n",
      "A value is trying to be set on a copy of a slice from a DataFrame.\n",
      "Try using .loc[row_indexer,col_indexer] = value instead\n",
      "\n",
      "See the caveats in the documentation: https://pandas.pydata.org/pandas-docs/stable/user_guide/indexing.html#returning-a-view-versus-a-copy\n",
      "  df['date'] = df['timestamp'].apply(date)\n"
     ]
    },
    {
     "name": "stdout",
     "output_type": "stream",
     "text": [
      "number of short transients : 43686\n",
      "number of medium short events : 23093\n",
      "number of medium events: 4431\n",
      "number of long events : 4\n"
     ]
    },
    {
     "name": "stderr",
     "output_type": "stream",
     "text": [
      "<ipython-input-17-b78c07a0d9db>:2: SettingWithCopyWarning: \n",
      "A value is trying to be set on a copy of a slice from a DataFrame.\n",
      "Try using .loc[row_indexer,col_indexer] = value instead\n",
      "\n",
      "See the caveats in the documentation: https://pandas.pydata.org/pandas-docs/stable/user_guide/indexing.html#returning-a-view-versus-a-copy\n",
      "  df['date'] = df['timestamp'].apply(date)\n"
     ]
    }
   ],
   "source": [
    "month_array = ['Aug', 'Sep', 'Oct', 'Nov', 'Dec', 'Jan', 'Feb', 'Mar', 'Apr', 'May']  #for monthly labels \n",
    "\n",
    "#empty lists \n",
    "yearly_short_array = pd.DataFrame({})\n",
    "yearly_med_short_array = pd.DataFrame({})\n",
    "yearly_med_array = pd.DataFrame({})\n",
    "yearly_long_array = pd.DataFrame({})\n",
    "\n",
    "count = 0 \n",
    "for month in [aug_loud, sep_loud, oct_loud, nov_loud, dec_loud, jan_loud, feb_loud, mar_loud, apr_loud, may_loud]:\n",
    "    month_name = month_array[count]\n",
    "    print(month_name + ': Longest loud noise event within month: %d' % (month['duration'].max()))\n",
    "\n",
    "    #create dataframes \n",
    "    df_short = transient_grouping(month, 0.5)\n",
    "    df_med_short = duration_grouping(month, 0.5, 5)\n",
    "    df_med = duration_grouping(month, 5, 180)\n",
    "    df_long = duration_grouping(month, 180, 1200)\n",
    "    \n",
    "    #print number of each events \n",
    "    print('number of short transients : %d' % len(df_short))\n",
    "    print('number of medium short events : %d' % len(df_med_short))\n",
    "    print('number of medium events: %d' % len(df_med))    \n",
    "    print('number of long events : %d' % len(df_long))\n",
    "\n",
    "\n",
    "    \n",
    "    #grouped by day \n",
    "    daily_short = groupby_day(df_short)\n",
    "    daily_med_short = groupby_day(df_med_short)\n",
    "    daily_med = groupby_day(df_med)\n",
    "    daily_long = groupby_day(df_long)\n",
    "    \n",
    "    #append for whole year \n",
    "    yearly_short_array = yearly_short_array.append(daily_short)\n",
    "    yearly_med_short_array = yearly_med_short_array.append(daily_med_short)\n",
    "    yearly_med_array = yearly_med_array.append(daily_med)\n",
    "    yearly_long_array = yearly_long_array.append(daily_long)\n",
    "    \n",
    "    count = count +1\n",
    "    \n",
    "import warnings\n",
    "warnings.simplefilter(action='ignore')\n"
   ]
  },
  {
   "cell_type": "code",
   "execution_count": null,
   "id": "5785ed3b",
   "metadata": {},
   "outputs": [],
   "source": []
  },
  {
   "cell_type": "code",
   "execution_count": 21,
   "id": "704526f3",
   "metadata": {},
   "outputs": [
    {
     "data": {
      "text/plain": [
       "<AxesSubplot:xlabel='timestamp'>"
      ]
     },
     "execution_count": 21,
     "metadata": {},
     "output_type": "execute_result"
    },
    {
     "data": {
      "image/png": "[encoded data removed]",
      "text/plain": [
       "<Figure size 1152x432 with 1 Axes>"
      ]
     },
     "metadata": {
      "needs_background": "light"
     },
     "output_type": "display_data"
    }
   ],
   "source": [
    "mar_short = transient_grouping(mar_loud, 0.5)\n",
    "mar_short = mar_short[(mar_short['timestamp'] > pd.to_datetime('2019-03-15 00:39:13.944')) & (mar_short['timestamp'] < pd.to_datetime('2019-03-16 00:39:13.944'))]\n",
    "mar_short.plot('timestamp', 'broadband_spl', figsize=(16, 6))"
   ]
  },
  {
   "cell_type": "code",
   "execution_count": 22,
   "id": "c88a8924",
   "metadata": {},
   "outputs": [
    {
     "data": {
      "image/png": "[encoded data removed]",
      "text/plain": [
       "<Figure size 1152x576 with 1 Axes>"
      ]
     },
     "metadata": {
      "needs_background": "light"
     },
     "output_type": "display_data"
    }
   ],
   "source": [
    "fig, ax = plt.subplots(figsize=(16,8))\n",
    "\n",
    "ax.bar(yearly_short_array['Date'], yearly_short_array['number of events'], label='number of daily transients')\n",
    "ax.bar(yearly_med_short_array['Date'], yearly_med_short_array['number of events'], label='number of daily medium short events')\n",
    "ax.bar(yearly_med_array['Date'], yearly_med_array['number of events'], label='number of daily medium events')\n",
    "ax.bar(yearly_long_array['Date'], yearly_long_array['number of events'], label='number of daily long events')\n",
    "\n",
    "#ax.scatter(yearly_short_array['Date'], yearly_short_array['number of events'], label='number of daily transients', c='r')\n",
    "#ax.scatter(yearly_med_short_array['Date'], yearly_med_short_array['number of events'], label='number of daily medium short events', c='g')\n",
    "#ax.scatter(yearly_med_array['Date'], yearly_med_array['number of events'], label='number of daily medium events', c='b')\n",
    "#ax.scatter(yearly_long_array['Date'], yearly_long_array['number of events'], label='number of daily long events', c='orange')\n",
    "\n",
    "\n",
    "ax.legend(loc='upper left')\n",
    "ax.set_ylabel('Number of events by day')\n",
    "ax.set_xlabel('Date')\n",
    "\n",
    "plt.tight_layout()\n",
    "plt.show()\n"
   ]
  },
  {
   "cell_type": "code",
   "execution_count": 23,
   "id": "141a02da",
   "metadata": {},
   "outputs": [
    {
     "data": {
      "text/html": [
       "<div>\n",
       "<style scoped>\n",
       "    .dataframe tbody tr th:only-of-type {\n",
       "        vertical-align: middle;\n",
       "    }\n",
       "\n",
       "    .dataframe tbody tr th {\n",
       "        vertical-align: top;\n",
       "    }\n",
       "\n",
       "    .dataframe thead th {\n",
       "        text-align: right;\n",
       "    }\n",
       "</style>\n",
       "<table border=\"1\" class=\"dataframe\">\n",
       "  <thead>\n",
       "    <tr style=\"text-align: right;\">\n",
       "      <th></th>\n",
       "      <th>Date</th>\n",
       "      <th>number of events</th>\n",
       "    </tr>\n",
       "  </thead>\n",
       "  <tbody>\n",
       "    <tr>\n",
       "      <th>0</th>\n",
       "      <td>2018-08-02</td>\n",
       "      <td>347</td>\n",
       "    </tr>\n",
       "    <tr>\n",
       "      <th>1</th>\n",
       "      <td>2018-08-04</td>\n",
       "      <td>122</td>\n",
       "    </tr>\n",
       "    <tr>\n",
       "      <th>2</th>\n",
       "      <td>2018-08-05</td>\n",
       "      <td>222</td>\n",
       "    </tr>\n",
       "    <tr>\n",
       "      <th>3</th>\n",
       "      <td>2018-08-06</td>\n",
       "      <td>559</td>\n",
       "    </tr>\n",
       "    <tr>\n",
       "      <th>4</th>\n",
       "      <td>2018-08-07</td>\n",
       "      <td>411</td>\n",
       "    </tr>\n",
       "    <tr>\n",
       "      <th>...</th>\n",
       "      <td>...</td>\n",
       "      <td>...</td>\n",
       "    </tr>\n",
       "    <tr>\n",
       "      <th>26</th>\n",
       "      <td>2019-05-27</td>\n",
       "      <td>1313</td>\n",
       "    </tr>\n",
       "    <tr>\n",
       "      <th>27</th>\n",
       "      <td>2019-05-28</td>\n",
       "      <td>1121</td>\n",
       "    </tr>\n",
       "    <tr>\n",
       "      <th>28</th>\n",
       "      <td>2019-05-29</td>\n",
       "      <td>159</td>\n",
       "    </tr>\n",
       "    <tr>\n",
       "      <th>29</th>\n",
       "      <td>2019-05-30</td>\n",
       "      <td>1687</td>\n",
       "    </tr>\n",
       "    <tr>\n",
       "      <th>30</th>\n",
       "      <td>2019-05-31</td>\n",
       "      <td>1727</td>\n",
       "    </tr>\n",
       "  </tbody>\n",
       "</table>\n",
       "<p>287 rows × 2 columns</p>\n",
       "</div>"
      ],
      "text/plain": [
       "          Date  number of events\n",
       "0   2018-08-02               347\n",
       "1   2018-08-04               122\n",
       "2   2018-08-05               222\n",
       "3   2018-08-06               559\n",
       "4   2018-08-07               411\n",
       "..         ...               ...\n",
       "26  2019-05-27              1313\n",
       "27  2019-05-28              1121\n",
       "28  2019-05-29               159\n",
       "29  2019-05-30              1687\n",
       "30  2019-05-31              1727\n",
       "\n",
       "[287 rows x 2 columns]"
      ]
     },
     "execution_count": 23,
     "metadata": {},
     "output_type": "execute_result"
    }
   ],
   "source": [
    "yearly_short_array"
   ]
  },
  {
   "cell_type": "code",
   "execution_count": 24,
   "id": "fc12bdbf",
   "metadata": {},
   "outputs": [],
   "source": [
    "yearly_short_array.to_csv('daily_number_transients.csv')"
   ]
  },
  {
   "cell_type": "code",
   "execution_count": 25,
   "id": "c0b02284",
   "metadata": {},
   "outputs": [],
   "source": [
    "yearly_med_short_array.to_csv('daily_number_med_short.csv')"
   ]
  },
  {
   "cell_type": "code",
   "execution_count": 26,
   "id": "ae19587a",
   "metadata": {},
   "outputs": [],
   "source": [
    "yearly_med_array.to_csv('daily_number_medium.csv')"
   ]
  },
  {
   "cell_type": "code",
   "execution_count": 27,
   "id": "d7e9a168",
   "metadata": {},
   "outputs": [],
   "source": [
    "yearly_long_array.to_csv('daily_number_long.csv')"
   ]
  },
  {
   "cell_type": "code",
   "execution_count": 30,
   "id": "3ec2f7f2",
   "metadata": {},
   "outputs": [
    {
     "data": {
      "text/html": [
       "<div>\n",
       "<style scoped>\n",
       "    .dataframe tbody tr th:only-of-type {\n",
       "        vertical-align: middle;\n",
       "    }\n",
       "\n",
       "    .dataframe tbody tr th {\n",
       "        vertical-align: top;\n",
       "    }\n",
       "\n",
       "    .dataframe thead th {\n",
       "        text-align: right;\n",
       "    }\n",
       "</style>\n",
       "<table border=\"1\" class=\"dataframe\">\n",
       "  <thead>\n",
       "    <tr style=\"text-align: right;\">\n",
       "      <th></th>\n",
       "      <th>25</th>\n",
       "      <th>32</th>\n",
       "      <th>40</th>\n",
       "      <th>50</th>\n",
       "      <th>63</th>\n",
       "      <th>79</th>\n",
       "      <th>100</th>\n",
       "      <th>126</th>\n",
       "      <th>158</th>\n",
       "      <th>200</th>\n",
       "      <th>...</th>\n",
       "      <th>12589</th>\n",
       "      <th>15849</th>\n",
       "      <th>19953</th>\n",
       "      <th>25119</th>\n",
       "      <th>filename</th>\n",
       "      <th>timestamp</th>\n",
       "      <th>broadband_spl</th>\n",
       "      <th>background_spl</th>\n",
       "      <th>loud</th>\n",
       "      <th>duration</th>\n",
       "    </tr>\n",
       "  </thead>\n",
       "  <tbody>\n",
       "    <tr>\n",
       "      <th>34105</th>\n",
       "      <td>102.698257</td>\n",
       "      <td>96.446335</td>\n",
       "      <td>96.730171</td>\n",
       "      <td>92.255966</td>\n",
       "      <td>98.539566</td>\n",
       "      <td>101.690109</td>\n",
       "      <td>100.420357</td>\n",
       "      <td>100.292450</td>\n",
       "      <td>98.969971</td>\n",
       "      <td>97.879654</td>\n",
       "      <td>...</td>\n",
       "      <td>59.995361</td>\n",
       "      <td>59.787327</td>\n",
       "      <td>60.565269</td>\n",
       "      <td>57.588963</td>\n",
       "      <td>ICLISTENHF1266_20190515T163216.989Z_TOL_1sHann...</td>\n",
       "      <td>2019-05-15 16:34:58.989</td>\n",
       "      <td>-37.393136</td>\n",
       "      <td>-50.950565</td>\n",
       "      <td>True</td>\n",
       "      <td>181.0</td>\n",
       "    </tr>\n",
       "    <tr>\n",
       "      <th>35894</th>\n",
       "      <td>121.287338</td>\n",
       "      <td>117.689529</td>\n",
       "      <td>113.772568</td>\n",
       "      <td>108.206505</td>\n",
       "      <td>111.368431</td>\n",
       "      <td>114.867905</td>\n",
       "      <td>111.349922</td>\n",
       "      <td>109.141510</td>\n",
       "      <td>107.272575</td>\n",
       "      <td>111.591080</td>\n",
       "      <td>...</td>\n",
       "      <td>63.502537</td>\n",
       "      <td>61.871758</td>\n",
       "      <td>61.691021</td>\n",
       "      <td>58.002754</td>\n",
       "      <td>ICLISTENHF1266_20190516T145433.007Z_TOL_1sHann...</td>\n",
       "      <td>2019-05-16 14:58:22.007</td>\n",
       "      <td>-22.005385</td>\n",
       "      <td>-38.375865</td>\n",
       "      <td>True</td>\n",
       "      <td>303.5</td>\n",
       "    </tr>\n",
       "    <tr>\n",
       "      <th>35941</th>\n",
       "      <td>113.956802</td>\n",
       "      <td>112.097717</td>\n",
       "      <td>115.663101</td>\n",
       "      <td>118.183136</td>\n",
       "      <td>113.616592</td>\n",
       "      <td>118.959885</td>\n",
       "      <td>113.481438</td>\n",
       "      <td>108.332993</td>\n",
       "      <td>113.219223</td>\n",
       "      <td>113.839119</td>\n",
       "      <td>...</td>\n",
       "      <td>66.032806</td>\n",
       "      <td>64.844269</td>\n",
       "      <td>63.751747</td>\n",
       "      <td>59.845154</td>\n",
       "      <td>ICLISTENHF1266_20190516T163944.007Z_TOL_1sHann...</td>\n",
       "      <td>2019-05-16 16:43:57.007</td>\n",
       "      <td>-21.406829</td>\n",
       "      <td>-31.787782</td>\n",
       "      <td>True</td>\n",
       "      <td>420.0</td>\n",
       "    </tr>\n",
       "    <tr>\n",
       "      <th>38141</th>\n",
       "      <td>89.253044</td>\n",
       "      <td>95.611526</td>\n",
       "      <td>98.267265</td>\n",
       "      <td>101.141510</td>\n",
       "      <td>95.798546</td>\n",
       "      <td>100.553528</td>\n",
       "      <td>100.495316</td>\n",
       "      <td>105.189507</td>\n",
       "      <td>108.839180</td>\n",
       "      <td>107.784523</td>\n",
       "      <td>...</td>\n",
       "      <td>58.846676</td>\n",
       "      <td>59.654823</td>\n",
       "      <td>60.554371</td>\n",
       "      <td>57.637207</td>\n",
       "      <td>ICLISTENHF1266_20190517T163615.937Z_TOL_1sHann...</td>\n",
       "      <td>2019-05-17 16:38:51.937</td>\n",
       "      <td>-32.913571</td>\n",
       "      <td>-44.378989</td>\n",
       "      <td>True</td>\n",
       "      <td>223.0</td>\n",
       "    </tr>\n",
       "  </tbody>\n",
       "</table>\n",
       "<p>4 rows × 37 columns</p>\n",
       "</div>"
      ],
      "text/plain": [
       "               25          32          40          50          63          79  \\\n",
       "34105  102.698257   96.446335   96.730171   92.255966   98.539566  101.690109   \n",
       "35894  121.287338  117.689529  113.772568  108.206505  111.368431  114.867905   \n",
       "35941  113.956802  112.097717  115.663101  118.183136  113.616592  118.959885   \n",
       "38141   89.253044   95.611526   98.267265  101.141510   95.798546  100.553528   \n",
       "\n",
       "              100         126         158         200  ...      12589  \\\n",
       "34105  100.420357  100.292450   98.969971   97.879654  ...  59.995361   \n",
       "35894  111.349922  109.141510  107.272575  111.591080  ...  63.502537   \n",
       "35941  113.481438  108.332993  113.219223  113.839119  ...  66.032806   \n",
       "38141  100.495316  105.189507  108.839180  107.784523  ...  58.846676   \n",
       "\n",
       "           15849      19953      25119  \\\n",
       "34105  59.787327  60.565269  57.588963   \n",
       "35894  61.871758  61.691021  58.002754   \n",
       "35941  64.844269  63.751747  59.845154   \n",
       "38141  59.654823  60.554371  57.637207   \n",
       "\n",
       "                                                filename  \\\n",
       "34105  ICLISTENHF1266_20190515T163216.989Z_TOL_1sHann...   \n",
       "35894  ICLISTENHF1266_20190516T145433.007Z_TOL_1sHann...   \n",
       "35941  ICLISTENHF1266_20190516T163944.007Z_TOL_1sHann...   \n",
       "38141  ICLISTENHF1266_20190517T163615.937Z_TOL_1sHann...   \n",
       "\n",
       "                    timestamp  broadband_spl  background_spl  loud  duration  \n",
       "34105 2019-05-15 16:34:58.989     -37.393136      -50.950565  True     181.0  \n",
       "35894 2019-05-16 14:58:22.007     -22.005385      -38.375865  True     303.5  \n",
       "35941 2019-05-16 16:43:57.007     -21.406829      -31.787782  True     420.0  \n",
       "38141 2019-05-17 16:38:51.937     -32.913571      -44.378989  True     223.0  \n",
       "\n",
       "[4 rows x 37 columns]"
      ]
     },
     "execution_count": 30,
     "metadata": {},
     "output_type": "execute_result"
    }
   ],
   "source": [
    "may_long = duration_grouping(may_loud, 180, 1200)\n",
    "may_long"
   ]
  },
  {
   "cell_type": "code",
   "execution_count": null,
   "id": "20d010a3",
   "metadata": {},
   "outputs": [],
   "source": []
  }
 ],
 "metadata": {
  "kernelspec": {
   "display_name": "Python 3",
   "language": "python",
   "name": "python3"
  },
  "language_info": {
   "codemirror_mode": {
    "name": "ipython",
    "version": 3
   },
   "file_extension": ".py",
   "mimetype": "text/x-python",
   "name": "python",
   "nbconvert_exporter": "python",
   "pygments_lexer": "ipython3",
   "version": "3.8.8"
  }
 },
 "nbformat": 4,
 "nbformat_minor": 5
}
